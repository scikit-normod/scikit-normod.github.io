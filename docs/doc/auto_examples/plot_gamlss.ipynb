{
  "cells": [
    {
      "cell_type": "markdown",
      "metadata": {},
      "source": [
        "\n# From LM to GAMLSS\n\nThis script demonstrates the progression from Linear Model (LM) to Generalized Additive Models for Location, Scale, and Shape (GAMLSS) using the `sknormod` package.\n"
      ]
    },
    {
      "cell_type": "markdown",
      "metadata": {},
      "source": [
        "## Imports\n\n"
      ]
    },
    {
      "cell_type": "code",
      "execution_count": null,
      "metadata": {
        "collapsed": false
      },
      "outputs": [],
      "source": [
        "import numpy as np\nimport matplotlib.pyplot as plt\n\nfrom sknormod import gam\nfrom sknormod import NormodOLS\n\nfrom sknormod.datasets import make_lss_SHASHo2\nfrom sknormod.plotting import plot_scatter_with_lines"
      ]
    },
    {
      "cell_type": "markdown",
      "metadata": {},
      "source": [
        "## Ploting functions\nDefine a custom plotting function to visualize the models\n\n"
      ]
    },
    {
      "cell_type": "code",
      "execution_count": null,
      "metadata": {
        "collapsed": false
      },
      "outputs": [],
      "source": [
        "def plot_model(ax, x, y, normod, title):\n    # Generate centiles for prediction\n    centiles = np.linspace(0.1, 0.9, 9)\n    # Predict centiles using the normative model\n    predicted_centiles = normod.predict_distr_p(x, centiles)\n    # Plot scatter plot of data points\n    ax.scatter(x, y)\n    # Plot centile lines\n    for centile_line in predicted_centiles:\n        ax.plot(x, centile_line, color='black')\n    # Set title for the subplot\n    ax.set_title(title)"
      ]
    },
    {
      "cell_type": "markdown",
      "metadata": {},
      "source": [
        "## Simulate data\nGenerate synthetic data for demonstration\n\n"
      ]
    },
    {
      "cell_type": "code",
      "execution_count": null,
      "metadata": {
        "collapsed": false
      },
      "outputs": [],
      "source": [
        "x, y = make_lss_SHASHo2(1000, \n                        interpolate_mu=[50, 52, 35],\n                        interpolate_sigma=[2, 0.5, 2],\n                        interpolate_nu=[-1.5, -1.5],\n                        interpolate_tau=[1, 1])\n# Reshape the feature array to match the model input requirements\nx = x.reshape(-1, 1)"
      ]
    },
    {
      "cell_type": "markdown",
      "metadata": {},
      "source": [
        "## Fit models\nInitialize normative models: OLS, GAM, GAMLS, and GAMLSS\n\n"
      ]
    },
    {
      "cell_type": "code",
      "execution_count": null,
      "metadata": {
        "collapsed": false
      },
      "outputs": [],
      "source": [
        "normod_ols = NormodOLS()  # Linear Model\nnormod_gam = gam.GAM(mu_formula=\"y ~ s(x0)\")  # GAM\nnormod_gam_ls = gam.GAMLS(mu_formula=\"y ~ s(x0)\", \n                        sigma_formula=\" ~ s(x0)\")  # GAM Heteroskedastic (LS)\nnormod_gam_lss = gam.GAMLSS(mu_formula=\"y ~ s(x0)\", \n                            sigma_formula=\" ~ s(x0)\", \n                            nu_formula=\" ~ 1\", \n                            tau_formula=\" ~ 1\")  # GAMLSS\n\n# Fit the models to the data\nnormod_ols.fit(x, y)\nnormod_gam.fit(x, y)\nnormod_gam_ls.fit(x, y)\nnormod_gam_lss.fit(x, y)"
      ]
    },
    {
      "cell_type": "markdown",
      "metadata": {},
      "source": [
        "## Visualize the results\n\n"
      ]
    },
    {
      "cell_type": "code",
      "execution_count": null,
      "metadata": {
        "collapsed": false
      },
      "outputs": [],
      "source": [
        "estimated_centiles = list((\n    normod.predict_distr_p(x, np.linspace(0.1, 0.9, 9)) \n    for normod in [normod_ols, normod_gam, normod_gam_ls, normod_gam_lss]\n))\n\nfig, axes = plt.subplots(2, 2, figsize=(10, 10))  \ntitles = [\"LM\", \"GAM\", \"GAMLS\", \"GAMLSS\"]\nfor i_col, ax in enumerate(axes.flat):\n    plt.sca(ax) \n    plot_scatter_with_lines(x, y, lines=estimated_centiles[i_col], cbar=False)\n    ax.set_title(titles[i_col]) \nplt.tight_layout()  \nplt.show()"
      ]
    }
  ],
  "metadata": {
    "kernelspec": {
      "display_name": "Python 3",
      "language": "python",
      "name": "python3"
    },
    "language_info": {
      "codemirror_mode": {
        "name": "ipython",
        "version": 3
      },
      "file_extension": ".py",
      "mimetype": "text/x-python",
      "name": "python",
      "nbconvert_exporter": "python",
      "pygments_lexer": "ipython3",
      "version": "3.12.2"
    }
  },
  "nbformat": 4,
  "nbformat_minor": 0
}