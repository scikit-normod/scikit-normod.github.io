{
  "cells": [
    {
      "cell_type": "markdown",
      "metadata": {},
      "source": [
        "\n# Fitting Multiple Normative Models\n\nThis script demonstrates the process of fitting multiple normative models to data and visualizing the results.\n\nWe first generate synthetic data for multiple variables across a range of ages. Then, we fit a MassUnivNormodOLS model to the data, which is capable of handling multiple variables simultaneously. Finally, we visualize the results, including centiles and z-scores, for each variable.\n"
      ]
    },
    {
      "cell_type": "markdown",
      "metadata": {},
      "source": [
        "## Imports\n\n"
      ]
    },
    {
      "cell_type": "code",
      "execution_count": null,
      "metadata": {
        "collapsed": false
      },
      "outputs": [],
      "source": [
        "import numpy as np\nimport matplotlib.pyplot as plt\nfrom sknormod import MassUnivNormodOLS\nfrom sknormod.datasets import make_gaussian\nfrom sknormod.plotting import plot_scatter_with_lines"
      ]
    },
    {
      "cell_type": "markdown",
      "metadata": {},
      "source": [
        "## Generate synthetic data\nWe generate synthetic data for multiple variables across a range of ages.\n\n"
      ]
    },
    {
      "cell_type": "code",
      "execution_count": null,
      "metadata": {
        "collapsed": false
      },
      "outputs": [],
      "source": [
        "n_subj = 500  # Number of subjects\nn_cols = 9    # Number of variables\n\nage = np.linspace(0, 100, n_subj) \nX = np.column_stack((age, age**2))  # Age and age squared as features\n# Generate synthetic Y data for each variable\nY = np.column_stack([make_gaussian(n_subj, \n        interpolate_mu = np.random.normal(loc=100, scale=2, size=3))[1] \n                     for _ in range(n_cols)])"
      ]
    },
    {
      "cell_type": "markdown",
      "metadata": {},
      "source": [
        "## Fit and get z-scores and centiles\n\n"
      ]
    },
    {
      "cell_type": "code",
      "execution_count": null,
      "metadata": {
        "collapsed": false
      },
      "outputs": [],
      "source": [
        "# Fit MassUnivNormodOLS model\nmass_normod = MassUnivNormodOLS()\nmass_normod.fit(X, Y)\n\n# Calculate z-scores and centiles\nZ = mass_normod.transform_to_z(X, Y)  # Calculate z-scores for each variable\n# Calculate centiles for each variable\nmass_estimated_centiles = mass_normod.predict_distr_p(X, \n                            np.linspace(0.1, 0.9, 9), range(n_cols))"
      ]
    },
    {
      "cell_type": "markdown",
      "metadata": {},
      "source": [
        "## Plotting\nVisualize the results for each variable\n\n"
      ]
    },
    {
      "cell_type": "code",
      "execution_count": null,
      "metadata": {
        "collapsed": false
      },
      "outputs": [],
      "source": [
        "fig, axes = plt.subplots(3, 3, figsize=(15, 15))  \nfor i_col, ax in enumerate(axes.flat):\n    plt.sca(ax)  \n    plot_scatter_with_lines(age, \n                            Y[:, i_col], \n                            lines=mass_estimated_centiles[i_col], \n                            c=Z[:, i_col])  \nplt.tight_layout()  \nplt.show()"
      ]
    }
  ],
  "metadata": {
    "kernelspec": {
      "display_name": "Python 3",
      "language": "python",
      "name": "python3"
    },
    "language_info": {
      "codemirror_mode": {
        "name": "ipython",
        "version": 3
      },
      "file_extension": ".py",
      "mimetype": "text/x-python",
      "name": "python",
      "nbconvert_exporter": "python",
      "pygments_lexer": "ipython3",
      "version": "3.12.2"
    }
  },
  "nbformat": 4,
  "nbformat_minor": 0
}