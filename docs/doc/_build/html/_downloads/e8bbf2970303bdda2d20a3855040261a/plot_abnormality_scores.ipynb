{
  "cells": [
    {
      "cell_type": "markdown",
      "metadata": {},
      "source": [
        "\n# Anomaly scores\n\ncalculating anomaly scores\n"
      ]
    },
    {
      "cell_type": "code",
      "execution_count": null,
      "metadata": {
        "collapsed": false
      },
      "outputs": [],
      "source": [
        "import numpy as np\nimport matplotlib.pyplot as plt\nfrom sknormod import MassUnivNormodOLS\nfrom sknormod.datasets import make_gaussian\nfrom sknormod.plotting import plot_scatter_with_lines\nfrom sknormod.atypicality import multi_atypicality_scorer, multi_roc_auc_score\n\nfrom sklearn.model_selection import train_test_split"
      ]
    },
    {
      "cell_type": "markdown",
      "metadata": {},
      "source": [
        "## Generate synthetic data\nWe generate synthetic data for multiple variables across a range of ages.\n\n"
      ]
    },
    {
      "cell_type": "code",
      "execution_count": null,
      "metadata": {
        "collapsed": false
      },
      "outputs": [],
      "source": [
        "n_subj = 2000  # Number of subjects\nn_cols = 200    # Number of variables\n\nage = np.linspace(0, 100, n_subj) \nX = np.column_stack((age, age**2))  # Age and age squared as features\n# Generate synthetic Y data for each variable\nY = np.column_stack([make_gaussian(n_subj, \n        interpolate_mu = np.random.normal(loc=100, scale=2, size=3))[1] \n                     for _ in range(n_cols)])"
      ]
    },
    {
      "cell_type": "markdown",
      "metadata": {},
      "source": [
        "train test split and generate test data\n\n"
      ]
    },
    {
      "cell_type": "code",
      "execution_count": null,
      "metadata": {
        "collapsed": false
      },
      "outputs": [],
      "source": [
        "X_train, X_test, Y_train, Y_test = train_test_split(X, Y, test_size=0.3)\n\nn_test = X_test.shape[0]\ndiag_labels = np.array([0]*(n_test//2) + [1]*(n_test//2))\n\nnum_cols = 50\nrows_to_modify = np.where(diag_labels == 1)[0]\n\n# For each row that meets the condition, subtract 0.1 from a random column\nfor row in rows_to_modify:\n    # Randomly select a column index\n    col_index = np.random.choice(num_cols)\n    # Subtract 0.1 from the selected column in the current row\n    Y_test[row, col_index] -= 3"
      ]
    },
    {
      "cell_type": "markdown",
      "metadata": {},
      "source": [
        "## Fit and get z-scores and abnormality scores\n\n"
      ]
    },
    {
      "cell_type": "code",
      "execution_count": null,
      "metadata": {
        "collapsed": false
      },
      "outputs": [],
      "source": [
        "# Fit MassUnivNormodOLS model\nmass_normod = MassUnivNormodOLS()\nmass_normod.fit(X_train, Y_train)\n\n# Calculate z-scores \nZ_test = mass_normod.transform_to_z(X_test, Y_test)  \n# Calculate abnormality scores\natypicality_scores = multi_atypicality_scorer(Z_test)\n\n# Check how well they discirminate between groups\nauc_scores = multi_roc_auc_score(diag_labels, atypicality_scores)\nfor key, value, in auc_scores.items():\n    print(f\"{key}: {value:.2f}\")"
      ]
    },
    {
      "cell_type": "markdown",
      "metadata": {},
      "source": [
        "## Ploting\n\n"
      ]
    },
    {
      "cell_type": "code",
      "execution_count": null,
      "metadata": {
        "collapsed": false
      },
      "outputs": [],
      "source": [
        "n_columns = len(atypicality_scores)\n# Number of rows and columns for subplots\nn_rows = (n_columns + 2) // 3\nn_cols = min(n_columns, 3)\n\n# Create a figure with subplots (3 columns)\nfig, axes = plt.subplots(n_rows, n_cols, figsize=(12, 4 * n_rows), tight_layout=True)\n# Flatten the axes array\naxes = axes.flatten()\n# Plot a histogram for each score type in the dictionary\nfor i, (score_name, scores) in enumerate(atypicality_scores.items()):\n    ax = axes[i]\n    min_value = np.min(scores)\n    max_value = np.max(scores)\n    ax.hist(scores[diag_labels == 0], range=(min_value, max_value),\n            color=\"blue\", alpha=0.5, label='Label 0')\n    ax.hist(scores[diag_labels == 1], range=(min_value, max_value), \n            color=\"orange\", alpha=0.5, label='Label 1')\n    ax.set_title(f'Histogram of {score_name}')\n    ax.set_xlabel('Score')\n    ax.set_ylabel('Frequency')\n\n# Hide empty subplots if there are fewer scores than subplots\nfor ax in axes[n_columns:]:\n    ax.axis('off')\n\n# Show the plot\nplt.show()"
      ]
    }
  ],
  "metadata": {
    "kernelspec": {
      "display_name": "Python 3",
      "language": "python",
      "name": "python3"
    },
    "language_info": {
      "codemirror_mode": {
        "name": "ipython",
        "version": 3
      },
      "file_extension": ".py",
      "mimetype": "text/x-python",
      "name": "python",
      "nbconvert_exporter": "python",
      "pygments_lexer": "ipython3",
      "version": "3.12.2"
    }
  },
  "nbformat": 4,
  "nbformat_minor": 0
}