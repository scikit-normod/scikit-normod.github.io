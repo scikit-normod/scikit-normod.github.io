{
  "cells": [
    {
      "cell_type": "markdown",
      "metadata": {},
      "source": [
        "\n# Plotting NormodOLS normative model\n\nThis example showcases the usage of the `NormodOLS` class from the `sknormod`\nlibrary. It focuses on fitting a normative model using ordinary least squares\n(OLS) regression, followed by visualizing the results including centiles and\nz-scores.\n"
      ]
    },
    {
      "cell_type": "markdown",
      "metadata": {},
      "source": [
        "## Import necessary libraries\n\n"
      ]
    },
    {
      "cell_type": "code",
      "execution_count": null,
      "metadata": {
        "collapsed": false
      },
      "outputs": [],
      "source": [
        "import numpy as np\nfrom sknormod import NormodOLS\nfrom sknormod.plotting import plot_scatter_with_lines\nfrom sknormod.datasets import make_gaussian"
      ]
    },
    {
      "cell_type": "markdown",
      "metadata": {},
      "source": [
        "## Simulate Data\nGenerate synthetic data mimicking a population's age-related variable (e.g.,\ncognitive score) and their corresponding age.\nHere, we create a sample of 500 individuals.\n\n"
      ]
    },
    {
      "cell_type": "code",
      "execution_count": null,
      "metadata": {
        "collapsed": false
      },
      "outputs": [],
      "source": [
        "n_subj = 500\nage, y = make_gaussian(n_subj, interpolate_mu=[95, 98, 92])\n# We also generate a quadratic feature of age to capture potential nonlinear\n# relationships.\nX = np.column_stack((age, age**2))"
      ]
    },
    {
      "cell_type": "markdown",
      "metadata": {},
      "source": [
        "## Fitting Normative Model\nWe employ the NormodOLS class, which implements Ordinary Least Squares (OLS)\nregression for normative modeling.\n\n\n"
      ]
    },
    {
      "cell_type": "code",
      "execution_count": null,
      "metadata": {
        "collapsed": false
      },
      "outputs": [],
      "source": [
        "normod = NormodOLS()\n# Fit the normative model using the generated data.\nnormod.fit(X, y)"
      ]
    },
    {
      "cell_type": "markdown",
      "metadata": {},
      "source": [
        "## Get centiles and z-scores\nGenerating Centiles and Z-Scores\nOnce the model is fitted, we can use it to predict centiles and calculate\nz-scores for new observations.\nWe predict centiles at specific percentiles (e.g., 10th, 20th, ..., 90th).\n\n"
      ]
    },
    {
      "cell_type": "code",
      "execution_count": null,
      "metadata": {
        "collapsed": false
      },
      "outputs": [],
      "source": [
        "# Now the centiles\nestimated_centiles = normod.predict_distr_p(X, np.linspace(0.1, 0.9, 9))\n# We also transform the observed data into z-scores.\nsubjects_z_scores = normod.transform_to_z(X, y)"
      ]
    },
    {
      "cell_type": "markdown",
      "metadata": {},
      "source": [
        "## Plotting Results\nFinally, we visualize the fitted model along with the centiles and the\ndistribution of z-scores.\n\n"
      ]
    },
    {
      "cell_type": "code",
      "execution_count": null,
      "metadata": {
        "collapsed": false
      },
      "outputs": [],
      "source": [
        "plot_scatter_with_lines(age, y, lines=estimated_centiles, c=subjects_z_scores)"
      ]
    }
  ],
  "metadata": {
    "kernelspec": {
      "display_name": "Python 3",
      "language": "python",
      "name": "python3"
    },
    "language_info": {
      "codemirror_mode": {
        "name": "ipython",
        "version": 3
      },
      "file_extension": ".py",
      "mimetype": "text/x-python",
      "name": "python",
      "nbconvert_exporter": "python",
      "pygments_lexer": "ipython3",
      "version": "3.12.2"
    }
  },
  "nbformat": 4,
  "nbformat_minor": 0
}