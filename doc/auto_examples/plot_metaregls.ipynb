{
  "cells": [
    {
      "cell_type": "markdown",
      "metadata": {},
      "source": [
        "\n# Meta-regression\nNormative modeling when data are measured with errors\n"
      ]
    },
    {
      "cell_type": "markdown",
      "metadata": {},
      "source": [
        "## Imports\n\n"
      ]
    },
    {
      "cell_type": "code",
      "execution_count": null,
      "metadata": {
        "collapsed": false
      },
      "outputs": [],
      "source": [
        "import numpy as np\nimport scipy\nimport matplotlib.pyplot as plt\n\nfrom sknormod import NormodOLS\nfrom sknormod.metareg import NormodMetaregLS\nfrom sknormod.plotting import plot_scatter_with_lines\nfrom sknormod.datasets import make_gaussian"
      ]
    },
    {
      "cell_type": "markdown",
      "metadata": {},
      "source": [
        "## The problem\n\n"
      ]
    },
    {
      "cell_type": "code",
      "execution_count": null,
      "metadata": {
        "collapsed": false
      },
      "outputs": [],
      "source": [
        "n_subj = 100\nage, y = make_gaussian(n_subj, interpolate_mu=[95, 98, 92])\n# We also generate a quadratic feature of age to capture potential nonlinear\n# relationships.\nX = np.column_stack((age, age**2))\n\nerror_se = np.ones(len(y)) * 1.5\ny_observed = y + scipy.stats.norm.rvs(scale=error_se, size=len(error_se))\n\nscatter = plt.scatter(age, y_observed, zorder=2, label=\"Observed\")\nerrorbar = plt.errorbar(age, y, yerr=error_se*2, fmt='o', color=\"red\",\n                        ecolor='black', zorder=1, label=\"True\")\nplt.title('TODO: make nicer plots')\nplt.legend()\nplt.show()"
      ]
    },
    {
      "cell_type": "markdown",
      "metadata": {},
      "source": [
        "## Fit models\n\n"
      ]
    },
    {
      "cell_type": "code",
      "execution_count": null,
      "metadata": {
        "collapsed": false
      },
      "outputs": [],
      "source": [
        "normod_ols = NormodOLS()\nnormod_metareg = NormodMetaregLS()\nnormod_truth = NormodOLS()\n\nnormod_ols.fit(X, y_observed)\nnormod_metareg.fit(X, y_observed, y_se=error_se)\nnormod_truth.fit(X, y)\n\ncentiles = np.linspace(0.1, 0.9, 9)\ncentiles_ols = normod_ols.predict_distr_p(X, centiles)\ncentiles_metareg = normod_metareg.predict_distr_p(X, centiles)\ncentiles_truth = normod_truth.predict_distr_p(X, centiles)"
      ]
    },
    {
      "cell_type": "markdown",
      "metadata": {},
      "source": [
        "## Plot\n\n"
      ]
    },
    {
      "cell_type": "code",
      "execution_count": null,
      "metadata": {
        "collapsed": false
      },
      "outputs": [],
      "source": [
        "estimated_centiles = list((\n    normod.predict_distr_p(X, np.linspace(0.1, 0.9, 9))\n    for normod in [normod_ols, normod_metareg, normod_truth]\n))\n\n\nfig, axes = plt.subplots(1, 3, figsize=(12, 4))\ntitles = [\"OLS\", \"Metareg\", \"True\"]\nfor i_col, ax in enumerate(axes.flat):\n    plt.sca(ax)\n    plot_scatter_with_lines(age, y_observed,\n                            lines=estimated_centiles[i_col], cbar=False)\n    plt.scatter(age, y, color='red')\n    ax.set_title(titles[i_col])\nplt.tight_layout()\nplt.show()"
      ]
    }
  ],
  "metadata": {
    "kernelspec": {
      "display_name": "Python 3",
      "language": "python",
      "name": "python3"
    },
    "language_info": {
      "codemirror_mode": {
        "name": "ipython",
        "version": 3
      },
      "file_extension": ".py",
      "mimetype": "text/x-python",
      "name": "python",
      "nbconvert_exporter": "python",
      "pygments_lexer": "ipython3",
      "version": "3.12.2"
    }
  },
  "nbformat": 4,
  "nbformat_minor": 0
}